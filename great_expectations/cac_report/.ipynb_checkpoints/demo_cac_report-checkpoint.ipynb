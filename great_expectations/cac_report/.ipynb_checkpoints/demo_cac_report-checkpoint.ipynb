{
 "cells": [
  {
   "cell_type": "markdown",
   "id": "4de05256",
   "metadata": {},
   "source": [
    "# Dashboard: Rug Sales KPI\n",
    "\n",
    "**Expectation Suite Name**: `dash-rug_sales_kpi`"
   ]
  },
  {
   "cell_type": "code",
   "execution_count": 8,
   "id": "bd9989f7",
   "metadata": {},
   "outputs": [],
   "source": [
    "from datetime import timedelta, datetime as dt\n",
    "import great_expectations as ge\n",
    "import great_expectations.jupyter_ux\n",
    "from great_expectations.checkpoint import LegacyCheckpoint\n",
    "from great_expectations.data_context.types.resource_identifiers import ValidationResultIdentifier\n",
    "\n",
    "context = ge.data_context.DataContext()\n",
    "\n",
    "expectation_suite_name = \"email-cac_report\"\n",
    "suite = context.get_expectation_suite(expectation_suite_name)\n",
    "suite.expectations = []"
   ]
  },
  {
   "cell_type": "code",
   "execution_count": 9,
   "id": "4dfec590",
   "metadata": {},
   "outputs": [
    {
     "name": "stdout",
     "output_type": "stream",
     "text": [
      "# 1. public.view_pivot_daily_all\n",
      "2021-07-23T11:33:32-0400 - INFO - Generating query from table batch_kwargs based on limit and offset\n",
      "2021-07-23T11:34:06-0400 - INFO - \t0 expectation(s) included in expectation_suite.\n"
     ]
    },
    {
     "data": {
      "text/html": [
       "<div>\n",
       "<style scoped>\n",
       "    .dataframe tbody tr th:only-of-type {\n",
       "        vertical-align: middle;\n",
       "    }\n",
       "\n",
       "    .dataframe tbody tr th {\n",
       "        vertical-align: top;\n",
       "    }\n",
       "\n",
       "    .dataframe thead th {\n",
       "        text-align: right;\n",
       "    }\n",
       "</style>\n",
       "<table border=\"1\" class=\"dataframe\">\n",
       "  <thead>\n",
       "    <tr style=\"text-align: right;\">\n",
       "      <th></th>\n",
       "      <th>advertiser</th>\n",
       "      <th>date</th>\n",
       "      <th>campaign_name</th>\n",
       "      <th>country</th>\n",
       "      <th>campaign_type</th>\n",
       "      <th>impressions</th>\n",
       "      <th>clicks</th>\n",
       "      <th>spend</th>\n",
       "      <th>conversions</th>\n",
       "      <th>revenue</th>\n",
       "      <th>leads</th>\n",
       "    </tr>\n",
       "  </thead>\n",
       "  <tbody>\n",
       "    <tr>\n",
       "      <th>0</th>\n",
       "      <td>Bing</td>\n",
       "      <td>2021-07-23</td>\n",
       "      <td>(Bing) Canada - Brand</td>\n",
       "      <td>canada</td>\n",
       "      <td>other</td>\n",
       "      <td>28.0</td>\n",
       "      <td>1.0</td>\n",
       "      <td>0.640</td>\n",
       "      <td>0.0</td>\n",
       "      <td>0.00</td>\n",
       "      <td>0.0</td>\n",
       "    </tr>\n",
       "    <tr>\n",
       "      <th>1</th>\n",
       "      <td>Bing</td>\n",
       "      <td>2021-07-23</td>\n",
       "      <td>(Bing) Ruggable - Smart Shopping</td>\n",
       "      <td>us</td>\n",
       "      <td>other</td>\n",
       "      <td>255.0</td>\n",
       "      <td>2.0</td>\n",
       "      <td>0.240</td>\n",
       "      <td>0.0</td>\n",
       "      <td>0.00</td>\n",
       "      <td>0.0</td>\n",
       "    </tr>\n",
       "    <tr>\n",
       "      <th>2</th>\n",
       "      <td>Bing</td>\n",
       "      <td>2021-07-22</td>\n",
       "      <td>(Bing) Branded Ruggable</td>\n",
       "      <td>us</td>\n",
       "      <td>other</td>\n",
       "      <td>4513.0</td>\n",
       "      <td>1579.0</td>\n",
       "      <td>1182.000</td>\n",
       "      <td>103.0</td>\n",
       "      <td>31138.45</td>\n",
       "      <td>0.0</td>\n",
       "    </tr>\n",
       "    <tr>\n",
       "      <th>3</th>\n",
       "      <td>Bing</td>\n",
       "      <td>2021-07-22</td>\n",
       "      <td>(Bing) Washable Rugs - Desktop/Tablet</td>\n",
       "      <td>us</td>\n",
       "      <td>other</td>\n",
       "      <td>1087.0</td>\n",
       "      <td>105.0</td>\n",
       "      <td>345.270</td>\n",
       "      <td>2.0</td>\n",
       "      <td>358.15</td>\n",
       "      <td>0.0</td>\n",
       "    </tr>\n",
       "    <tr>\n",
       "      <th>4</th>\n",
       "      <td>Criteo</td>\n",
       "      <td>2021-07-22</td>\n",
       "      <td>Retargeting - Lower Funnel (0-7 Days)</td>\n",
       "      <td>us</td>\n",
       "      <td>retargeting</td>\n",
       "      <td>719304.0</td>\n",
       "      <td>2361.0</td>\n",
       "      <td>6480.108</td>\n",
       "      <td>228.0</td>\n",
       "      <td>55546.00</td>\n",
       "      <td>0.0</td>\n",
       "    </tr>\n",
       "  </tbody>\n",
       "</table>\n",
       "</div>"
      ],
      "text/plain": [
       "  advertiser       date                          campaign_name country  \\\n",
       "0  Bing      2021-07-23  (Bing) Canada - Brand                  canada   \n",
       "1  Bing      2021-07-23  (Bing) Ruggable - Smart Shopping       us       \n",
       "2  Bing      2021-07-22  (Bing) Branded Ruggable                us       \n",
       "3  Bing      2021-07-22  (Bing) Washable Rugs - Desktop/Tablet  us       \n",
       "4  Criteo    2021-07-22  Retargeting - Lower Funnel (0-7 Days)  us       \n",
       "\n",
       "  campaign_type  impressions  clicks     spend  conversions   revenue  leads  \n",
       "0  other         28.0         1.0     0.640     0.0          0.00      0.0    \n",
       "1  other         255.0        2.0     0.240     0.0          0.00      0.0    \n",
       "2  other         4513.0       1579.0  1182.000  103.0        31138.45  0.0    \n",
       "3  other         1087.0       105.0   345.270   2.0          358.15    0.0    \n",
       "4  retargeting   719304.0     2361.0  6480.108  228.0        55546.00  0.0    "
      ]
     },
     "execution_count": 9,
     "metadata": {},
     "output_type": "execute_result"
    }
   ],
   "source": [
    "# 1. public.view_pivot_daily_all\n",
    "print('# 1. public.view_pivot_daily_all')\n",
    "batch_kwargs_vpda = {'data_asset_name': 'vpda', 'datasource': 'ruggable', 'limit': 1000, 'schema': 'public', 'table': 'view_pivot_daily_all'}\n",
    "batch_vpda = context.get_batch(batch_kwargs_rug_sales_aov_rpo_by_type, suite)\n",
    "batch_vpda.head()"
   ]
  },
  {
   "cell_type": "code",
   "execution_count": 16,
   "id": "4f98de78",
   "metadata": {},
   "outputs": [
    {
     "name": "stdout",
     "output_type": "stream",
     "text": [
      "yesterday: 2021-07-22\n",
      "today: 2021-07-23\n"
     ]
    }
   ],
   "source": [
    "## inserted_at\n",
    "yesterday = dt.now() - timedelta(1)\n",
    "yesterday = yesterday.strftime(\"%Y-%m-%d\")\n",
    "\n",
    "today = dt.now()\n",
    "today = today.strftime(\"%Y-%m-%d\")\n",
    "\n",
    "print(\"yesterday: \"+ yesterday)\n",
    "print(\"today: \" + today)"
   ]
  },
  {
   "cell_type": "code",
   "execution_count": 17,
   "id": "c57fed46",
   "metadata": {},
   "outputs": [
    {
     "data": {
      "text/plain": [
       "{\n",
       "  \"result\": {\n",
       "    \"element_count\": 1000,\n",
       "    \"missing_count\": 0,\n",
       "    \"missing_percent\": 0.0,\n",
       "    \"unexpected_count\": 0,\n",
       "    \"unexpected_percent\": 0.0,\n",
       "    \"unexpected_percent_total\": 0.0,\n",
       "    \"unexpected_percent_nonmissing\": 0.0,\n",
       "    \"partial_unexpected_list\": []\n",
       "  },\n",
       "  \"exception_info\": {\n",
       "    \"raised_exception\": false,\n",
       "    \"exception_traceback\": null,\n",
       "    \"exception_message\": null\n",
       "  },\n",
       "  \"meta\": {},\n",
       "  \"success\": true\n",
       "}"
      ]
     },
     "execution_count": 17,
     "metadata": {},
     "output_type": "execute_result"
    }
   ],
   "source": [
    "# 1 -- add specific SQL based batches for more targeted dates (ex. Criteo would only have through 'yesterday' while Bing would have data from 'today')\n",
    "batch_vpda.expect_column_values_to_be_between(column='date', max_value=today, min_value='2021-01-01', parse_strings_as_datetimes=True)"
   ]
  },
  {
   "cell_type": "markdown",
   "id": "8a6d4615",
   "metadata": {},
   "source": [
    "## Save & Review\n",
    "\n",
    "Let's save the expectation suite as a JSON file in the `great_expectations/expectations` directory of your project.\n",
    "If you decide not to save some expectations that you created, use [remove_expectation method](https://docs.greatexpectations.io/en/latest/autoapi/great_expectations/data_asset/index.html?highlight=remove_expectation&utm_source=notebook&utm_medium=edit_expectations#great_expectations.data_asset.DataAsset.remove_expectation)."
   ]
  },
  {
   "cell_type": "code",
   "execution_count": 21,
   "id": "39203ae0",
   "metadata": {},
   "outputs": [
    {
     "name": "stdout",
     "output_type": "stream",
     "text": [
      "2021-06-24T11:54:35-0400 - INFO - \t1 expectation(s) included in expectation_suite. result_format settings filtered.\n",
      "2021-06-24T11:54:35-0400 - INFO - \t1 expectation(s) included in expectation_suite. result_format settings filtered.\n",
      "2021-06-24T11:54:35-0400 - INFO - \t1 expectation(s) included in expectation_suite. result_format settings filtered.\n",
      "2021-06-24T11:54:35-0400 - INFO - \t1 expectation(s) included in expectation_suite. result_format settings filtered.\n",
      "2021-06-24T11:54:35-0400 - INFO - \t1 expectation(s) included in expectation_suite. result_format settings filtered.\n",
      "2021-06-24T11:54:35-0400 - INFO - \t1 expectation(s) included in expectation_suite. result_format settings filtered.\n",
      "2021-06-24T11:54:35-0400 - INFO - \t1 expectation(s) included in expectation_suite. result_format settings filtered.\n",
      "2021-06-24T11:54:35-0400 - INFO - \t1 expectation(s) included in expectation_suite. result_format settings filtered.\n",
      "2021-06-24T11:54:35-0400 - INFO - \t1 expectation(s) included in expectation_suite. result_format settings filtered.\n"
     ]
    }
   ],
   "source": [
    "# 1\n",
    "batch_vpda.save_expectation_suite(discard_failed_expectations=False)"
   ]
  },
  {
   "cell_type": "code",
   "execution_count": 22,
   "id": "76378f55",
   "metadata": {},
   "outputs": [
    {
     "name": "stdout",
     "output_type": "stream",
     "text": [
      "2021-06-24T11:54:35-0400 - INFO - Generating query from table batch_kwargs based on limit and offset\n",
      "2021-06-24T11:54:36-0400 - INFO - Generating query from table batch_kwargs based on limit and offset\n",
      "2021-06-24T11:54:38-0400 - INFO - Generating query from table batch_kwargs based on limit and offset\n",
      "2021-06-24T11:54:39-0400 - INFO - Generating query from table batch_kwargs based on limit and offset\n",
      "2021-06-24T11:54:40-0400 - INFO - Generating query from table batch_kwargs based on limit and offset\n",
      "2021-06-24T11:54:42-0400 - INFO - Generating query from table batch_kwargs based on limit and offset\n",
      "2021-06-24T11:54:43-0400 - INFO - Generating query from table batch_kwargs based on limit and offset\n",
      "2021-06-24T11:54:55-0400 - INFO - Generating query from table batch_kwargs based on limit and offset\n",
      "2021-06-24T11:54:58-0400 - INFO - Generating query from table batch_kwargs based on limit and offset\n",
      "2021-06-24T11:55:00-0400 - INFO - Setting run_name to: 20210624T155500.257468Z\n",
      "2021-06-24T11:55:00-0400 - INFO - \t1 expectation(s) included in expectation_suite.\n",
      "2021-06-24T11:55:01-0400 - INFO - \t1 expectation(s) included in expectation_suite.\n",
      "2021-06-24T11:55:02-0400 - INFO - \t1 expectation(s) included in expectation_suite.\n",
      "2021-06-24T11:55:04-0400 - INFO - \t1 expectation(s) included in expectation_suite.\n",
      "2021-06-24T11:55:05-0400 - INFO - \t1 expectation(s) included in expectation_suite.\n",
      "2021-06-24T11:55:06-0400 - INFO - \t1 expectation(s) included in expectation_suite.\n",
      "2021-06-24T11:55:07-0400 - INFO - \t1 expectation(s) included in expectation_suite.\n",
      "2021-06-24T11:55:08-0400 - INFO - \t1 expectation(s) included in expectation_suite.\n",
      "2021-06-24T11:55:10-0400 - INFO - \t1 expectation(s) included in expectation_suite.\n"
     ]
    }
   ],
   "source": [
    "results = LegacyCheckpoint(\n",
    "    name=\"_temp_checkpoint\",\n",
    "    data_context=context,\n",
    "    batches=[\n",
    "        {\n",
    "          \"batch_kwargs\": batch_vpda,\n",
    "          \"expectation_suite_names\": [expectation_suite_name]\n",
    "        }\n",
    "    ]\n",
    ").run()\n",
    "# look into these functions for data doc creation\n",
    "validation_result_identifier = results.list_validation_result_identifiers()[0]\n",
    "context.build_data_docs()\n",
    "context.open_data_docs(validation_result_identifier)"
   ]
  },
  {
   "cell_type": "code",
   "execution_count": null,
   "id": "6368daf4",
   "metadata": {},
   "outputs": [],
   "source": []
  }
 ],
 "metadata": {
  "kernelspec": {
   "display_name": "Python 3",
   "language": "python",
   "name": "python3"
  },
  "language_info": {
   "codemirror_mode": {
    "name": "ipython",
    "version": 3
   },
   "file_extension": ".py",
   "mimetype": "text/x-python",
   "name": "python",
   "nbconvert_exporter": "python",
   "pygments_lexer": "ipython3",
   "version": "3.8.6"
  }
 },
 "nbformat": 4,
 "nbformat_minor": 5
}
